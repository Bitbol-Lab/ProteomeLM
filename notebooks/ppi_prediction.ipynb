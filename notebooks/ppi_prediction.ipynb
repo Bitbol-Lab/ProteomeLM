{
 "cells": [
  {
   "cell_type": "markdown",
   "id": "7868cc44",
   "metadata": {},
   "source": [
    "# Improved Light PPI Prediction\n",
    "\n",
    "This notebook provides a flexible framework for protein-protein interaction (PPI) prediction using ProteomeLM attention mechanisms. It supports multiple data sources:\n",
    "\n",
    "1. **Local FASTA file**: Upload your own protein sequences\n",
    "2. **STRING database**: Download sequences by organism ID\n",
    "3. **UniProt database**: Download sequences by taxon ID\n",
    "4. **UniProt IDs**: Fetch specific protein sequences\n",
    "\n",
    "The workflow includes:\n",
    "- Flexible data collection\n",
    "- ProteomeLM inference with attention extraction\n",
    "- PPI prediction using pre-trained logistic regression models\n",
    "- STRING annotation comparison and evaluation"
   ]
  },
  {
   "cell_type": "markdown",
   "id": "e41a8c4c",
   "metadata": {},
   "source": [
    "## Setup and Imports"
   ]
  },
  {
   "cell_type": "code",
   "execution_count": 40,
   "id": "1acb1873",
   "metadata": {},
   "outputs": [],
   "source": [
    "import logging\n",
    "import sys\n",
    "import shutil\n",
    "import pickle\n",
    "import torch\n",
    "\n",
    "import matplotlib.pyplot as plt\n",
    "import numpy as np\n",
    "\n",
    "import ipywidgets as widgets\n",
    "from IPython.display import display\n",
    "\n",
    "sys.path.append(\"..\")\n",
    "from proteomelm.ppi.model import prepare_ppi\n",
    "from notebooks_utils import *\n",
    "\n",
    "from proteomelm.ppi.model import EnhancedPPIModel\n",
    "\n",
    "logging.basicConfig(level=logging.INFO, format='%(asctime)s - %(levelname)s - %(message)s')\n",
    "\n",
    "# Set plot style\n",
    "plt.rcParams['font.family'] = 'Arial'\n",
    "plt.rcParams['text.usetex'] = False\n",
    "plt.rcParams['font.size'] = 14"
   ]
  },
  {
   "cell_type": "markdown",
   "id": "3f30e55d",
   "metadata": {},
   "source": [
    "## Data Collection Configuration\n",
    "\n",
    "Configure your data source by setting exactly one of the following options:\n",
    "- `fasta_file`: Path to a local FASTA file\n",
    "- `string_id`: STRING database organism ID (e.g., \"9606\" for human)\n",
    "- `taxon_id`: NCBI taxon ID for UniProt download\n",
    "- `uniprot_ids`: List of specific UniProt accession IDs"
   ]
  },
  {
   "cell_type": "code",
   "execution_count": 41,
   "id": "d7f3344b",
   "metadata": {},
   "outputs": [
    {
     "name": "stdout",
     "output_type": "stream",
     "text": [
      "=== PPI Prediction Configuration ===\n",
      "📁 Data Source Configuration:\n"
     ]
    },
    {
     "data": {
      "application/vnd.jupyter.widget-view+json": {
       "model_id": "dda3a3753af44c5faed7ed5d1f5940a7",
       "version_major": 2,
       "version_minor": 0
      },
      "text/plain": [
       "Dropdown(description='Data source:', index=1, options=(('Upload FASTA file', 'fasta'), ('STRING organism ID', …"
      ]
     },
     "metadata": {},
     "output_type": "display_data"
    },
    {
     "data": {
      "application/vnd.jupyter.widget-view+json": {
       "model_id": "9636b042984448f2beb6e9f58b49b06a",
       "version_major": 2,
       "version_minor": 0
      },
      "text/plain": [
       "FileUpload(value=(), accept='.fasta,.fa,.fas,.seq', description='Upload FASTA file:', layout=Layout(display='n…"
      ]
     },
     "metadata": {},
     "output_type": "display_data"
    },
    {
     "data": {
      "application/vnd.jupyter.widget-view+json": {
       "model_id": "61d995270f8e45269de7cdb635ab7ffb",
       "version_major": 2,
       "version_minor": 0
      },
      "text/plain": [
       "Text(value='511145', description='STRING organism ID:', layout=Layout(display='block', width='300px'), placeho…"
      ]
     },
     "metadata": {},
     "output_type": "display_data"
    },
    {
     "data": {
      "application/vnd.jupyter.widget-view+json": {
       "model_id": "35891b55039a4860845928ade5ea429b",
       "version_major": 2,
       "version_minor": 0
      },
      "text/plain": [
       "Text(value='', description='NCBI taxon ID:', layout=Layout(display='none', width='300px'), placeholder='e.g., …"
      ]
     },
     "metadata": {},
     "output_type": "display_data"
    },
    {
     "data": {
      "application/vnd.jupyter.widget-view+json": {
       "model_id": "52814eda4bef49589c9ae4ae8d1dedff",
       "version_major": 2,
       "version_minor": 0
      },
      "text/plain": [
       "Textarea(value='', description='UniProt IDs:', layout=Layout(display='none', height='100px', width='500px'), p…"
      ]
     },
     "metadata": {},
     "output_type": "display_data"
    },
    {
     "name": "stdout",
     "output_type": "stream",
     "text": [
      "\n",
      "⚙️ Analysis Options:\n"
     ]
    },
    {
     "data": {
      "application/vnd.jupyter.widget-view+json": {
       "model_id": "56ad4fd5626c4b47b5559bed2c1a83fe",
       "version_major": 2,
       "version_minor": 0
      },
      "text/plain": [
       "Checkbox(value=True, description='Download STRING annotations for comparison', style=CheckboxStyle(description…"
      ]
     },
     "metadata": {},
     "output_type": "display_data"
    },
    {
     "data": {
      "application/vnd.jupyter.widget-view+json": {
       "model_id": "ca8b0a6a6d174919952b390cda858450",
       "version_major": 2,
       "version_minor": 0
      },
      "text/plain": [
       "Text(value='Custom Organism', description='Organism name:', layout=Layout(width='400px'), placeholder='e.g., H…"
      ]
     },
     "metadata": {},
     "output_type": "display_data"
    },
    {
     "name": "stdout",
     "output_type": "stream",
     "text": [
      "\n",
      "🤖 Model Configuration:\n"
     ]
    },
    {
     "data": {
      "application/vnd.jupyter.widget-view+json": {
       "model_id": "c75ed8223bee4423b539d4bb965054b9",
       "version_major": 2,
       "version_minor": 0
      },
      "text/plain": [
       "Dropdown(description='Model checkpoint:', index=1, layout=Layout(width='500px'), options=(('ProteomeLM-XS', '.…"
      ]
     },
     "metadata": {},
     "output_type": "display_data"
    },
    {
     "data": {
      "application/vnd.jupyter.widget-view+json": {
       "model_id": "ca24b439006f4da7aa3c199efe85e53d",
       "version_major": 2,
       "version_minor": 0
      },
      "text/plain": [
       "Dropdown(description='ESM device:', options=('cuda:0', 'cuda:1', 'cpu'), style=DescriptionStyle(description_wi…"
      ]
     },
     "metadata": {},
     "output_type": "display_data"
    },
    {
     "data": {
      "application/vnd.jupyter.widget-view+json": {
       "model_id": "ffacf21ebd2e4439868823181456deef",
       "version_major": 2,
       "version_minor": 0
      },
      "text/plain": [
       "Dropdown(description='ProteomeLM device:', options=('cpu', 'cuda:0', 'cuda:1'), style=DescriptionStyle(descrip…"
      ]
     },
     "metadata": {},
     "output_type": "display_data"
    },
    {
     "name": "stdout",
     "output_type": "stream",
     "text": [
      "\n",
      "📊 Unsupervised PPI Prediction:\n"
     ]
    },
    {
     "data": {
      "application/vnd.jupyter.widget-view+json": {
       "model_id": "39ed3e658ecf423aa305093c0916af8c",
       "version_major": 2,
       "version_minor": 0
      },
      "text/plain": [
       "Dropdown(description='Logistic regression model:', layout=Layout(width='600px'), options=(('Human model', '../…"
      ]
     },
     "metadata": {},
     "output_type": "display_data"
    },
    {
     "name": "stdout",
     "output_type": "stream",
     "text": [
      "\n",
      "🧠 Supervised PPI Prediction:\n"
     ]
    },
    {
     "data": {
      "application/vnd.jupyter.widget-view+json": {
       "model_id": "80d474e0d2c7465f8f4c3d0acab70150",
       "version_major": 2,
       "version_minor": 0
      },
      "text/plain": [
       "Checkbox(value=True, description='Use supervised PPI prediction', style=CheckboxStyle(description_width='initi…"
      ]
     },
     "metadata": {},
     "output_type": "display_data"
    },
    {
     "data": {
      "application/vnd.jupyter.widget-view+json": {
       "model_id": "238a2978d19e4b21afd7322fe6578eb9",
       "version_major": 2,
       "version_minor": 0
      },
      "text/plain": [
       "Dropdown(description='Supervised PPI checkpoint:', layout=Layout(display='block', width='600px'), options=(('B…"
      ]
     },
     "metadata": {},
     "output_type": "display_data"
    },
    {
     "data": {
      "application/vnd.jupyter.widget-view+json": {
       "model_id": "e6927d0f976b4b009d5f948a45b0ac57",
       "version_major": 2,
       "version_minor": 0
      },
      "text/plain": [
       "HTML(value='<div style=\"background-color: #fff3cd; border: 1px solid #ffeaa7; color: #856404; padding: 8px; bo…"
      ]
     },
     "metadata": {},
     "output_type": "display_data"
    },
    {
     "name": "stdout",
     "output_type": "stream",
     "text": [
      "\n",
      "✅ Configuration ready! Run the next cell to start analysis.\n"
     ]
    }
   ],
   "source": [
    "# Create interactive widgets for configuration\n",
    "print(\"=== PPI Prediction Configuration ===\")\n",
    "\n",
    "# Data source selection\n",
    "data_source_type = widgets.Dropdown(\n",
    "    options=[\n",
    "        ('Upload FASTA file', 'fasta'),\n",
    "        ('STRING organism ID', 'string'),\n",
    "        ('UniProt taxon ID', 'taxon'),\n",
    "        ('UniProt accession IDs', 'uniprot_ids')\n",
    "    ],\n",
    "    value='string',\n",
    "    description='Data source:',\n",
    "    style={'description_width': 'initial'}\n",
    ")\n",
    "\n",
    "# Input fields for different data sources\n",
    "fasta_file_input = widgets.FileUpload(\n",
    "    accept='.fasta,.fa,.fas,.seq',\n",
    "    multiple=False,\n",
    "    description='Upload FASTA file:',\n",
    "    style={'description_width': 'initial'},\n",
    "    layout=widgets.Layout(width='500px')\n",
    ")\n",
    "\n",
    "string_id_input = widgets.Text(\n",
    "    value='511145',\n",
    "    placeholder='e.g., 511145 for E. coli',\n",
    "    description='STRING organism ID:',\n",
    "    style={'description_width': 'initial'},\n",
    "    layout=widgets.Layout(width='300px')\n",
    ")\n",
    "\n",
    "taxon_id_input = widgets.Text(\n",
    "    value='',\n",
    "    placeholder='e.g., 9606',\n",
    "    description='NCBI taxon ID:',\n",
    "    style={'description_width': 'initial'},\n",
    "    layout=widgets.Layout(width='300px')\n",
    ")\n",
    "\n",
    "uniprot_ids_input = widgets.Textarea(\n",
    "    value='',\n",
    "    placeholder='Enter UniProt IDs separated by commas or newlines\\ne.g., P12345, Q67890, A12345',\n",
    "    description='UniProt IDs:',\n",
    "    style={'description_width': 'initial'},\n",
    "    layout=widgets.Layout(width='500px', height='100px')\n",
    ")\n",
    "\n",
    "# Additional options\n",
    "get_annotations_checkbox = widgets.Checkbox(\n",
    "    value=True,\n",
    "    description='Download STRING annotations for comparison',\n",
    "    style={'description_width': 'initial'}\n",
    ")\n",
    "\n",
    "organism_name_input = widgets.Text(\n",
    "    value='Custom Organism',\n",
    "    placeholder='e.g., H. sapiens, E. coli',\n",
    "    description='Organism name:',\n",
    "    style={'description_width': 'initial'},\n",
    "    layout=widgets.Layout(width='400px')\n",
    ")\n",
    "\n",
    "# Model configuration\n",
    "checkpoint_input = widgets.Dropdown(\n",
    "    options=[\n",
    "        ('ProteomeLM-XS', '../weights/ProteomeLM-XS'),\n",
    "        ('ProteomeLM-S', '../weights/ProteomeLM-S'),\n",
    "        ('ProteomeLM-M', '../weights/ProteomeLM-M'),\n",
    "        ('ProteomeLM-L', '../weights/ProteomeLM-L')\n",
    "    ],\n",
    "    value='../weights/ProteomeLM-S',\n",
    "    description='Model checkpoint:',\n",
    "    style={'description_width': 'initial'},\n",
    "    layout=widgets.Layout(width='500px')\n",
    ")\n",
    "\n",
    "esm_device_input = widgets.Dropdown(\n",
    "    options=['cuda:0', 'cuda:1', 'cpu'],\n",
    "    value='cuda:0',\n",
    "    description='ESM device:',\n",
    "    style={'description_width': 'initial'}\n",
    ")\n",
    "\n",
    "proteomelm_device_input = widgets.Dropdown(\n",
    "    options=['cpu', 'cuda:0', 'cuda:1'],\n",
    "    value='cpu',\n",
    "    description='ProteomeLM device:',\n",
    "    style={'description_width': 'initial'}\n",
    ")\n",
    "\n",
    "# Supervised PPI prediction options\n",
    "use_supervised_ppi = widgets.Checkbox(\n",
    "    value=True,\n",
    "    description='Use supervised PPI prediction',\n",
    "    style={'description_width': 'initial'}\n",
    ")\n",
    "\n",
    "supervised_ppi_checkpoint = widgets.Dropdown(\n",
    "    options=[\n",
    "        ('Bernett model', '../data/interactomes/enhanced_ppi_model_bernett.pt'),\n",
    "        ('D-SCRIPT model', '../data/interactomes/enhanced_ppi_model_dscript.pt')\n",
    "    ],\n",
    "    value='../data/interactomes/enhanced_ppi_model_bernett.pt',\n",
    "    description='Supervised PPI checkpoint:',\n",
    "    style={'description_width': 'initial'},\n",
    "    layout=widgets.Layout(width='600px')\n",
    ")\n",
    "\n",
    "# Warning label for supervised PPI\n",
    "supervised_ppi_warning = widgets.HTML(\n",
    "    value='<div style=\"background-color: #fff3cd; border: 1px solid #ffeaa7; '\n",
    "          'color: #856404; padding: 8px; border-radius: 4px; margin: 5px 0;\">'\n",
    "          '<b>⚠️ Note:</b> Supervised PPI prediction currently requires ProteomeLM-S checkpoint</div>',\n",
    "    layout=widgets.Layout(width='600px')\n",
    ")\n",
    "\n",
    "logreg_model_input = widgets.Dropdown(\n",
    "    options=[\n",
    "        ('Human model', '../data/interactomes/logistic_regression_model_human.pkl'),\n",
    "        ('Pathogen model', '../data/interactomes/logistic_regression_model_pathogen.pkl'),\n",
    "        ('No regression (sum the attention scores)', None)\n",
    "    ],\n",
    "    value='../data/interactomes/logistic_regression_model_human.pkl',\n",
    "    description='Logistic regression model:',\n",
    "    style={'description_width': 'initial'},\n",
    "    layout=widgets.Layout(width='600px')\n",
    ")\n",
    "\n",
    "# Function to show/hide input fields based on data source selection\n",
    "def update_visibility(change):\n",
    "    data_type = change['new']\n",
    "    \n",
    "    # Hide all inputs first\n",
    "    fasta_file_input.layout.display = 'none'\n",
    "    string_id_input.layout.display = 'none'\n",
    "    taxon_id_input.layout.display = 'none'\n",
    "    uniprot_ids_input.layout.display = 'none'\n",
    "    \n",
    "    # Show relevant input\n",
    "    if data_type == 'fasta':\n",
    "        fasta_file_input.layout.display = 'block'\n",
    "    elif data_type == 'string':\n",
    "        string_id_input.layout.display = 'block'\n",
    "    elif data_type == 'taxon':\n",
    "        taxon_id_input.layout.display = 'block'\n",
    "    elif data_type == 'uniprot_ids':\n",
    "        uniprot_ids_input.layout.display = 'block'\n",
    "\n",
    "# Function to show/hide supervised PPI options\n",
    "def update_supervised_visibility(change):\n",
    "    use_supervised = change['new']\n",
    "    \n",
    "    if use_supervised:\n",
    "        supervised_ppi_checkpoint.layout.display = 'block'\n",
    "        supervised_ppi_warning.layout.display = 'block'\n",
    "    else:\n",
    "        supervised_ppi_checkpoint.layout.display = 'none'\n",
    "        supervised_ppi_warning.layout.display = 'none'\n",
    "\n",
    "# Set up the observers\n",
    "data_source_type.observe(update_visibility, names='value')\n",
    "use_supervised_ppi.observe(update_supervised_visibility, names='value')\n",
    "\n",
    "# Initial visibility setup\n",
    "update_visibility({'new': data_source_type.value})\n",
    "update_supervised_visibility({'new': use_supervised_ppi.value})\n",
    "\n",
    "# Display the configuration interface\n",
    "print(\"📁 Data Source Configuration:\")\n",
    "display(data_source_type)\n",
    "display(fasta_file_input)\n",
    "display(string_id_input)\n",
    "display(taxon_id_input)\n",
    "display(uniprot_ids_input)\n",
    "\n",
    "print(\"\\n⚙️ Analysis Options:\")\n",
    "display(get_annotations_checkbox)\n",
    "display(organism_name_input)\n",
    "\n",
    "print(\"\\n🤖 Model Configuration:\")\n",
    "display(checkpoint_input)\n",
    "display(esm_device_input)\n",
    "display(proteomelm_device_input)\n",
    "\n",
    "print(\"\\n📊 Unsupervised PPI Prediction:\")\n",
    "display(logreg_model_input)\n",
    "\n",
    "print(\"\\n🧠 Supervised PPI Prediction:\")\n",
    "display(use_supervised_ppi)\n",
    "display(supervised_ppi_checkpoint)\n",
    "display(supervised_ppi_warning)\n",
    "\n",
    "# Function to extract configuration values\n",
    "def get_config():\n",
    "    \"\"\"Extract current configuration values from widgets.\"\"\"\n",
    "    config = {\n",
    "        'fasta_file': None,\n",
    "        'string_id': None,\n",
    "        'taxon_id': None,\n",
    "        'uniprot_ids': None,\n",
    "        'get_string_annotations': get_annotations_checkbox.value,\n",
    "        'organism_name': organism_name_input.value,\n",
    "        'checkpoint': checkpoint_input.value,\n",
    "        'esm_device': esm_device_input.value,\n",
    "        'proteomelm_device': proteomelm_device_input.value,\n",
    "        'use_supervised_ppi': use_supervised_ppi.value,\n",
    "        'supervised_ppi_checkpoint': supervised_ppi_checkpoint.value,\n",
    "        'logreg_model_path': logreg_model_input.value\n",
    "    }\n",
    "    \n",
    "    # Set the appropriate data source based on selection\n",
    "    data_type = data_source_type.value\n",
    "    if data_type == 'fasta' and fasta_file_input.value.strip():\n",
    "        config['fasta_file'] = fasta_file_input.value.strip()\n",
    "    elif data_type == 'string' and string_id_input.value.strip():\n",
    "        config['string_id'] = string_id_input.value.strip()\n",
    "    elif data_type == 'taxon' and taxon_id_input.value.strip():\n",
    "        config['taxon_id'] = taxon_id_input.value.strip()\n",
    "    elif data_type == 'uniprot_ids' and uniprot_ids_input.value.strip():\n",
    "        # Parse comma or newline separated UniProt IDs\n",
    "        ids_text = uniprot_ids_input.value.strip()\n",
    "        ids = [id_.strip() for id_ in ids_text.replace('\\n', ',').split(',') if id_.strip()]\n",
    "        config['uniprot_ids'] = ids if ids else None\n",
    "    \n",
    "    return config\n",
    "\n",
    "print(\"\\n✅ Configuration ready! Run the next cell to start analysis.\")"
   ]
  },
  {
   "cell_type": "markdown",
   "id": "fe4fb665",
   "metadata": {},
   "source": [
    "## Data Collection and Preparation"
   ]
  },
  {
   "cell_type": "code",
   "execution_count": null,
   "id": "57746704",
   "metadata": {},
   "outputs": [
    {
     "name": "stdout",
     "output_type": "stream",
     "text": [
      "2025-08-15 16:04:03,384 - INFO - root - Downloading sequences from STRING database for organism: 511145\n",
      "2025-08-15 16:04:03,538 - INFO - root - Loaded 4140 protein sequences\n",
      "2025-08-15 16:04:03,539 - INFO - root - Sample labels: ['511145.b0001', '511145.b0002', '511145.b0003']\n",
      "2025-08-15 16:04:03,540 - INFO - root - Configuration: organism='Custom Organism', annotations=True\n",
      "✅ Successfully loaded 4140 protein sequences for Custom Organism\n"
     ]
    }
   ],
   "source": [
    "# Get configuration from widgets\n",
    "config = get_config()\n",
    "\n",
    "# Extract configuration values\n",
    "fasta_file = config['fasta_file']\n",
    "string_id = config['string_id']\n",
    "taxon_id = config['taxon_id']\n",
    "uniprot_ids = config['uniprot_ids']\n",
    "get_string_annotations = config['get_string_annotations']\n",
    "organism_name = config['organism_name']\n",
    "checkpoint = config['checkpoint']\n",
    "esm_device = config['esm_device']\n",
    "proteomelm_device = config['proteomelm_device']\n",
    "logreg_model_path = config['logreg_model_path']\n",
    "supervised_ppi_checkpoint = config['supervised_ppi_checkpoint']\n",
    "use_supervised_ppi = config['use_supervised_ppi']\n",
    "\n",
    "# Initialize variables\n",
    "labels = None\n",
    "sequences = None\n",
    "mapping = None\n",
    "uniprot_fasta_file = \"temp_uniprot.fa\"\n",
    "\n",
    "# Validate configuration\n",
    "data_sources = [fasta_file, string_id, taxon_id, uniprot_ids]\n",
    "active_sources = [src for src in data_sources if src is not None]\n",
    "if len(active_sources) == 0:\n",
    "    raise ValueError(\"Please configure exactly one data source in the configuration cell above\")\n",
    "elif len(active_sources) > 1:\n",
    "    raise ValueError(\"Please configure exactly one data source (multiple sources detected)\")\n",
    "\n",
    "# Collect protein sequences based on configuration\n",
    "if fasta_file is not None:\n",
    "    logging.info(f\"Loading sequences from local FASTA file: {fasta_file}\")\n",
    "    labels, sequences = load_fasta(fasta_file)\n",
    "    # Copy to standard filename for downstream processing\n",
    "    shutil.copy(fasta_file, uniprot_fasta_file)\n",
    "    \n",
    "elif string_id is not None:\n",
    "    logging.info(f\"Downloading sequences from STRING database for organism: {string_id}\")\n",
    "    labels, sequences = download_string_fasta(string_id)\n",
    "    # Copy string fasta to uniprot fasta for processing\n",
    "    if os.path.exists(\"temp_string.fa\"):\n",
    "        shutil.copy(\"temp_string.fa\", uniprot_fasta_file)\n",
    "        \n",
    "elif taxon_id is not None:\n",
    "    logging.info(f\"Downloading sequences from UniProt for taxon ID: {taxon_id}\")\n",
    "    url = f\"https://rest.uniprot.org/uniprotkb/stream?format=fasta&query=organism_id:{taxon_id}\"\n",
    "    response = requests.get(url)\n",
    "    if response.status_code == 200:\n",
    "        with open(uniprot_fasta_file, \"wb\") as f:\n",
    "            f.write(response.content)\n",
    "        labels, sequences = load_fasta(uniprot_fasta_file)\n",
    "    else:\n",
    "        raise Exception(f\"Failed to download FASTA file for taxon ID {taxon_id}. Status code: {response.status_code}.\")\n",
    "        \n",
    "elif uniprot_ids is not None:\n",
    "    logging.info(f\"Fetching {len(uniprot_ids)} sequences from UniProt\")\n",
    "    sequences_dict = fetch_uniprot_sequences_batch(uniprot_ids)\n",
    "    labels = list(sequences_dict.keys())\n",
    "    sequences = list(sequences_dict.values())\n",
    "    \n",
    "    # Write to FASTA file\n",
    "    with open(uniprot_fasta_file, \"w\") as f:\n",
    "        for label, seq in zip(labels, sequences):\n",
    "            f.write(f\">{label}\\n{seq}\\n\")\n",
    "\n",
    "logging.info(f\"Loaded {len(labels)} protein sequences\")\n",
    "logging.info(f\"Sample labels: {labels[:3]}\")\n",
    "logging.info(f\"Configuration: organism='{organism_name}', annotations={get_string_annotations}\")\n",
    "print(f\"✅ Successfully loaded {len(labels)} protein sequences for {organism_name}\")"
   ]
  },
  {
   "cell_type": "markdown",
   "id": "9be01edb",
   "metadata": {},
   "source": [
    "## STRING Annotations Collection"
   ]
  },
  {
   "cell_type": "code",
   "execution_count": 7,
   "id": "159376a2",
   "metadata": {},
   "outputs": [
    {
     "name": "stdout",
     "output_type": "stream",
     "text": [
      "2025-08-15 16:04:08,401 - INFO - root - Collecting STRING interaction annotations...\n",
      "2025-08-15 16:04:11,291 - INFO - root - Found 492380 interactions out of 8567730 possible pairs\n",
      "2025-08-15 16:04:11,297 - INFO - root - Interaction rate: 5.75%\n",
      "2025-08-15 16:04:11,357 - INFO - root - STRING labels saved to temp_string_labels.npy\n"
     ]
    }
   ],
   "source": [
    "string_scores = None\n",
    "string_labels = None\n",
    "\n",
    "if get_string_annotations:\n",
    "    logging.info(\"Collecting STRING interaction annotations...\")\n",
    "    \n",
    "    # Determine which organism ID to use for STRING annotations\n",
    "    string_organism_id = string_id if string_id is not None else taxon_id\n",
    "    \n",
    "    if string_organism_id is not None:\n",
    "        # Download STRING annotations\n",
    "        annotations_file = download_string_annotations(str(string_organism_id))\n",
    "        \n",
    "        # If we're not using STRING sequences directly, we need to map\n",
    "        if string_id is None:\n",
    "            # Download STRING sequences for mapping\n",
    "            download_string_fasta(str(string_organism_id))\n",
    "            mapping = map_string_to_uniprot(uniprot_fasta_file, \"temp_string.fa\")\n",
    "            logging.info(f\"Created mapping for {len(mapping)} proteins\")\n",
    "        \n",
    "        # Process STRING annotations\n",
    "        all_string_interactions = []\n",
    "        with open(annotations_file, \"r\") as f:\n",
    "            next(f)  # Skip header line\n",
    "            for line in f:\n",
    "                parts = line.strip().split()\n",
    "                if len(parts) >= 2:\n",
    "                    protein1, protein2 = parts[0], parts[1]\n",
    "                    score = int(parts[-1])  # combined_score is the last column\n",
    "                    \n",
    "                    # Apply mapping if needed\n",
    "                    if mapping is not None:\n",
    "                        protein1 = mapping.get(protein1, protein1)\n",
    "                        protein2 = mapping.get(protein2, protein2)\n",
    "                    \n",
    "                    all_string_interactions.append((protein1, protein2, score))\n",
    "        \n",
    "        # Create interaction matrix\n",
    "        n_proteins = len(labels)\n",
    "        protein_to_idx = {label: i for i, label in enumerate(labels)}\n",
    "        \n",
    "        y_matrix = np.zeros((n_proteins, n_proteins), dtype=int)\n",
    "        \n",
    "        for protein1, protein2, score in all_string_interactions:\n",
    "            if protein1 == protein2:\n",
    "                continue\n",
    "            if protein1 in protein_to_idx and protein2 in protein_to_idx:\n",
    "                i, j = protein_to_idx[protein1], protein_to_idx[protein2]\n",
    "                y_matrix[i, j] = score\n",
    "                y_matrix[j, i] = score  # Make symmetric\n",
    "        \n",
    "        # Convert to upper triangular vector\n",
    "        string_scores = y_matrix[np.triu_indices(n_proteins, k=1)]\n",
    "        string_labels = string_scores >= 150  # Basic threshold for interactions\n",
    "        \n",
    "        logging.info(f\"Found {np.sum(string_labels)} interactions out of {len(string_labels)} possible pairs\")\n",
    "        logging.info(f\"Interaction rate: {np.sum(string_labels)/len(string_labels):.2%}\")\n",
    "        \n",
    "        # Save STRING labels\n",
    "        np.save(\"temp_string_labels.npy\", string_scores)\n",
    "        logging.info(\"STRING labels saved to temp_string_labels.npy\")\n",
    "    else:\n",
    "        logging.warning(\"Cannot download STRING annotations: no organism ID provided\")"
   ]
  },
  {
   "cell_type": "markdown",
   "id": "0db220c2",
   "metadata": {},
   "source": [
    "## ProteomeLM Feature Extraction"
   ]
  },
  {
   "cell_type": "code",
   "execution_count": 8,
   "id": "19853116",
   "metadata": {},
   "outputs": [
    {
     "name": "stdout",
     "output_type": "stream",
     "text": [
      "2025-08-15 16:04:16,729 - INFO - root - Starting ProteomeLM feature extraction...\n"
     ]
    },
    {
     "name": "stderr",
     "output_type": "stream",
     "text": [
      "DistilBertSdpaAttention is used but `torch.nn.functional.scaled_dot_product_attention` does not support `output_attentions=True` or `head_mask`. Falling back to the manual attention implementation, but specifying the manual implementation will be required from Transformers version v5.0.0 onwards. This warning can be removed using the argument `attn_implementation=\"eager\"` when loading the model.\n"
     ]
    },
    {
     "name": "stdout",
     "output_type": "stream",
     "text": [
      "2025-08-15 16:04:25,952 - INFO - root - Extracted pairwise features shape: (8567730, 48)\n",
      "2025-08-15 16:04:25,955 - INFO - root - Number of protein pairs: 8567730\n"
     ]
    }
   ],
   "source": [
    "# ProteomeLM inference\n",
    "logging.info(\"Starting ProteomeLM feature extraction...\")\n",
    "\n",
    "encoded_genome_file = \"temp_proteome_encoded.pt\"\n",
    "\n",
    "output = prepare_ppi(\n",
    "    checkpoint,\n",
    "    uniprot_fasta_file,\n",
    "    encoded_genome_file=encoded_genome_file,\n",
    "    keep_heads=None,\n",
    "    esm_device=esm_device,\n",
    "    proteomelm_device=proteomelm_device,\n",
    "    use_odb=False,\n",
    "    include_attention=True,\n",
    "    include_all_hidden_states=False,\n",
    "    reload_if_possible=True\n",
    ")\n",
    "\n",
    "# Extract representations and attention\n",
    "representations = output[\"plm_logits\"][0]\n",
    "attention = np.concatenate([att.float() for att in output[\"plm_attentions\"]], 0)\n",
    "attention = attention.transpose(2, 3, 0, 1)\n",
    "\n",
    "# Remove self-attention (diagonal)\n",
    "attention[np.arange(attention.shape[0]), np.arange(attention.shape[0])] = 0\n",
    "\n",
    "# Make attention symmetric\n",
    "A = (attention + attention.transpose(1, 0, 2, 3)) / 2\n",
    "\n",
    "# Convert to pairwise features for upper triangular matrix\n",
    "n_proteins = A.shape[0]\n",
    "triu_indices = np.triu_indices(n_proteins, k=1)\n",
    "pairwise_features = A[triu_indices]  # Shape: (n_pairs, n_layers, n_heads)\n",
    "\n",
    "# Flatten to (n_pairs, n_features)\n",
    "pairwise_features = pairwise_features.reshape(pairwise_features.shape[0], -1)\n",
    "\n",
    "logging.info(f\"Extracted pairwise features shape: {pairwise_features.shape}\")\n",
    "logging.info(f\"Number of protein pairs: {len(pairwise_features)}\")"
   ]
  },
  {
   "cell_type": "markdown",
   "id": "9345bf10",
   "metadata": {},
   "source": [
    "## Unsupervised PPI Prediction using Pre-trained Models"
   ]
  },
  {
   "cell_type": "code",
   "execution_count": 9,
   "id": "9c4c0c9a",
   "metadata": {},
   "outputs": [
    {
     "name": "stdout",
     "output_type": "stream",
     "text": [
      "2025-08-15 16:04:25,977 - INFO - root - Loaded pre-trained model from ../data/interactomes/logistic_regression_model_human.pkl\n",
      "2025-08-15 16:04:27,578 - INFO - root - Generated PPI predictions for 8567730 protein pairs\n",
      "2025-08-15 16:04:27,592 - INFO - root - Prediction score range: 0.499 - 0.543\n"
     ]
    }
   ],
   "source": [
    "# Load pre-trained logistic regression model\n",
    "if logreg_model_path is None:\n",
    "    logging.info(\"No logistic regression model selected, using sum of attention scores\")\n",
    "    proteomelm_scores = np.sum(pairwise_features, axis=1)\n",
    "else:\n",
    "    try:\n",
    "        with open(logreg_model_path, \"rb\") as f:\n",
    "            logreg_model, coef, intercept = pickle.load(f)\n",
    "        \n",
    "        logging.info(f\"Loaded pre-trained model from {logreg_model_path}\")\n",
    "        \n",
    "        # Make predictions\n",
    "        proteomelm_scores = logreg_model.predict_proba(pairwise_features)[:, 1]\n",
    "        \n",
    "        logging.info(f\"Generated PPI predictions for {len(proteomelm_scores)} protein pairs\")\n",
    "        logging.info(f\"Prediction score range: {proteomelm_scores.min():.3f} - {proteomelm_scores.max():.3f}\")\n",
    "        \n",
    "    except FileNotFoundError:\n",
    "        logging.error(f\"Pre-trained model not found at {logreg_model_path}\")\n",
    "        logging.info(\"Summing attention scores instead\")\n",
    "        proteomelm_scores = np.sum(pairwise_features, axis=1)\n",
    "    except Exception as e:\n",
    "        logging.error(f\"Error loading model: {e}\")\n",
    "        logging.info(\"Using sum of attention scores\")\n",
    "        proteomelm_scores = np.sum(pairwise_features, axis=1)"
   ]
  },
  {
   "cell_type": "code",
   "execution_count": 10,
   "id": "5a9ca8e9",
   "metadata": {},
   "outputs": [
    {
     "name": "stdout",
     "output_type": "stream",
     "text": [
      "2025-08-15 16:04:29,022 - INFO - root - Saved plot to fraction_above_threshold_customorganism.svg\n"
     ]
    },
    {
     "data": {
      "image/png": "[encoded data removed]",
      "text/plain": [
       "<Figure size 500x400 with 1 Axes>"
      ]
     },
     "metadata": {},
     "output_type": "display_data"
    },
    {
     "name": "stdout",
     "output_type": "stream",
     "text": [
      "\n",
      "=== PPI Prediction Summary ===\n",
      "Organism: Custom Organism\n",
      "Total proteins: 4140\n",
      "Total possible pairs: 8,567,730\n",
      "STRING interactions found: 492,380 (5.75%)\n",
      "\n",
      "Top 10000 predictions:\n",
      "  Low (0.15-0.4): 3671 (36.7%)\n",
      "  Medium (0.4-0.7): 2395 (23.9%)\n",
      "  High (0.7-0.9): 1242 (12.4%)\n",
      "  Very high (0.9+): 778 (7.8%)\n"
     ]
    }
   ],
   "source": [
    "# Prediction quality analysis\n",
    "if string_scores is not None:\n",
    "    # Parameters for analysis (matching human.ipynb)\n",
    "    Ns = [1000, 3000, 5000, 10000, 30000, 50000, 70000, 100000, 300000, 500000, 700000, \n",
    "          1000000, 3000000, 5000000, 7000000, 10000000, 30000000, \n",
    "          50000000, 70000000, 100000000]\n",
    "    thrs = [150, 400, 700, 900]\n",
    "    thrs_labels = [\"Low (0.15-0.4)\", \"Medium (0.4-0.7)\", \"High (0.7-0.9)\", \"Very high (0.9+)\"]\n",
    "    \n",
    "    # Filter Ns to valid range\n",
    "    max_predictions = len(proteomelm_scores)\n",
    "    Ns = [n for n in Ns if n <= max_predictions]\n",
    "    \n",
    "    if len(Ns) == 0:\n",
    "        logging.warning(f\"Not enough predictions ({max_predictions}) for analysis\")\n",
    "        Ns = [min(1000, max_predictions), max_predictions]\n",
    "    \n",
    "    # Sort by ProteomeLM scores\n",
    "    indices = np.argsort(proteomelm_scores)[::-1]\n",
    "    y_sorted_by_proteomelm_score = string_scores[indices]\n",
    "    \n",
    "    # Calculate fraction above thresholds\n",
    "    X = np.zeros((len(Ns), len(thrs)))\n",
    "    for i, n in enumerate(Ns):\n",
    "        for j, thr in enumerate(thrs):\n",
    "            X[i, j] = np.sum(y_sorted_by_proteomelm_score[:n] >= thr) / n\n",
    "    \n",
    "    # Create visualization\n",
    "    cmap = plt.get_cmap('plasma')\n",
    "    colors = [cmap(i) for i in np.linspace(0.3, 0.8, 4)][::-1]\n",
    "    \n",
    "    plt.figure(figsize=(5, 4))\n",
    "    for i, thr in enumerate(thrs):\n",
    "        plt.plot(Ns, X[:, i], color=\"black\", linestyle=\"-\")\n",
    "        plt.fill_between(Ns, X[:, i], alpha=1, color=colors[i], label=thrs_labels[i])\n",
    "    \n",
    "    plt.title(f\"$\\\\mathbf{{\\\\it{{{organism_name}}}}}$\", fontweight=\"bold\")\n",
    "    plt.xscale(\"log\")\n",
    "    plt.xlim(min(Ns), max(Ns))\n",
    "    plt.xlabel(\"Number of predictions\")\n",
    "    plt.ylim(0, max(0.45, X.max() * 1.1))\n",
    "    plt.ylabel(\"Fraction of predictions\")\n",
    "    plt.legend(fontsize=12)\n",
    "    \n",
    "    plt.gca().spines['top'].set_visible(False)\n",
    "    plt.gca().spines['right'].set_visible(False)\n",
    "    plt.tight_layout()\n",
    "    \n",
    "    # Save plot\n",
    "    output_file = f\"fraction_above_threshold_{organism_name.lower().replace(' ', '').replace('.', '_')}.svg\"\n",
    "    plt.savefig(output_file, dpi=300)\n",
    "    logging.info(f\"Saved plot to {output_file}\")\n",
    "    plt.show()\n",
    "    \n",
    "    # Print summary statistics\n",
    "    print(f\"\\n=== PPI Prediction Summary ===\")\n",
    "    print(f\"Organism: {organism_name}\")\n",
    "    print(f\"Total proteins: {len(labels)}\")\n",
    "    print(f\"Total possible pairs: {len(proteomelm_scores):,}\")\n",
    "    print(f\"STRING interactions found: {np.sum(string_labels):,} ({np.sum(string_labels)/len(string_labels):.2%})\")\n",
    "    \n",
    "    # Top predictions analysis\n",
    "    top_10000 = min(10000, len(proteomelm_scores))\n",
    "    top_predictions_string_scores = y_sorted_by_proteomelm_score[:top_10000]\n",
    "\n",
    "    print(f\"\\nTop {top_10000} predictions:\")\n",
    "    for i, (thr, label) in enumerate(zip(thrs, thrs_labels)):\n",
    "        count = np.sum(top_predictions_string_scores >= thr)\n",
    "        fraction = count / top_10000\n",
    "        print(f\"  {label}: {count} ({fraction:.1%})\")\n",
    "\n",
    "else:\n",
    "    logging.warning(\"No STRING annotations available for comparison\")\n",
    "    print(f\"\\n=== PPI Prediction Summary ===\")\n",
    "    print(f\"Organism: {organism_name}\")\n",
    "    print(f\"Total proteins: {len(labels)}\")\n",
    "    print(f\"Total possible pairs: {len(proteomelm_scores):,}\")\n",
    "    print(f\"ProteomeLM score range: {proteomelm_scores.min():.3f} - {proteomelm_scores.max():.3f}\")\n",
    "    \n",
    "    # Show top predicted pairs\n",
    "    top_indices = np.argsort(proteomelm_scores)[::-1][:10]\n",
    "    triu_indices = np.triu_indices(len(labels), k=1)\n",
    "    \n",
    "    print(f\"\\nTop 10 predicted interactions:\")\n",
    "    for rank, idx in enumerate(top_indices, 1):\n",
    "        i, j = triu_indices[0][idx], triu_indices[1][idx]\n",
    "        score = proteomelm_scores[idx]\n",
    "        print(f\"  {rank}. {labels[i]} - {labels[j]}: {score:.3f}\")"
   ]
  },
  {
   "cell_type": "markdown",
   "id": "f3762282",
   "metadata": {},
   "source": [
    "## Supervised PPI Prediction using Pre-trained model\n",
    "\n",
    "Using a trained PPI model to predict all possible protein-protein interactions in the proteome."
   ]
  },
  {
   "cell_type": "code",
   "execution_count": null,
   "id": "2db0b364",
   "metadata": {},
   "outputs": [
    {
     "name": "stdout",
     "output_type": "stream",
     "text": [
      "=== Supervised PPI Prediction with Enhanced PPI Model ===\n",
      "We only support ProteomeLM-S for now\n",
      "2025-08-15 16:09:22,830 - INFO - root - Creating new Enhanced PPI model for supervised prediction...\n",
      "2025-08-15 16:09:22,884 - INFO - root - Created Enhanced PPI model with 1152-dim proteins and 48-dim pairs\n",
      "2025-08-15 16:09:22,888 - INFO - root - Preparing data for Enhanced PPI model...\n",
      "2025-08-15 16:09:33,483 - INFO - root - Prepared 8567730 protein pairs for prediction\n",
      "\n",
      "Prediction method: Pre-trained Enhanced PPI Model\n",
      "Total protein pairs analyzed: 8,567,730\n",
      "Prediction score range: 0.0444 - 0.9746\n",
      "Mean prediction score: 0.5060\n",
      "\n",
      "Top 20 predicted protein-protein interactions:\n",
      "--------------------------------------------------------------------------------\n",
      "Rank Protein 1            Protein 2            Score    STRING   Match\n",
      "--------------------------------------------------------------------------------\n",
      "1    511145.b2606         511145.b3315         0.975    999      ✓\n",
      "2    511145.b2606         511145.b3296         0.973    999      ✓\n",
      "3    511145.b2606         511145.b3313         0.973    999      ✓\n",
      "4    511145.b1089         511145.b1717         0.972    999      ✓\n",
      "5    511145.b1716         511145.b3301         0.971    998      ✓\n",
      "6    511145.b3299         511145.b4506         0.970    979      ✓\n",
      "7    511145.b2606         511145.b3318         0.970    998      ✓\n",
      "8    511145.b2606         511145.b3301         0.970    998      ✓\n",
      "9    511145.b1716         511145.b3294         0.969    998      ✓\n",
      "10   511145.b2606         511145.b3294         0.969    999      ✓\n",
      "11   511145.b3298         511145.b3342         0.969    999      ✓\n",
      "12   511145.b3296         511145.b3315         0.969    999      ✓\n",
      "13   511145.b3298         511145.b3301         0.969    999      ✓\n",
      "14   511145.b3297         511145.b3342         0.968    999      ✓\n",
      "15   511145.b1716         511145.b3703         0.968    989      ✓\n",
      "16   511145.b1717         511145.b3065         0.968    996      ✓\n",
      "17   511145.b3317         511145.b3318         0.968    999      ✓\n",
      "18   511145.b3298         511145.b3315         0.968    999      ✓\n",
      "19   511145.b3185         511145.b3317         0.967    999      ✓\n",
      "20   511145.b2606         511145.b3311         0.967    999      ✓\n",
      "\n",
      "=== Enhanced Network Analysis ===\n",
      "Precision @ top-100: 1.000 (100/100 interactions)\n",
      "Precision @ top-500: 0.882 (441/500 interactions)\n",
      "Precision @ top-1000: 0.713 (713/1000 interactions)\n",
      "Precision @ top-5000: 0.486 (2432/5000 interactions)\n",
      "\n",
      "✅ Enhanced PPI prediction completed using Pre-trained Enhanced PPI Model\n",
      "💾 Results saved to temp_supervised_ppi_scores.npy\n"
     ]
    }
   ],
   "source": [
    "# Full Proteome Supervised PPI Prediction\n",
    "# This uses the EnhancedPPIModel from proteomelm/ppi\n",
    "if supervised_ppi_checkpoint is None or not use_supervised_ppi:\n",
    "    print(\"=== Supervised PPI Prediction with Enhanced PPI Model ===\")\n",
    "    print(\"We only support ProteomeLM-S for now\")\n",
    "    enhanced_model_ppi_checkpoint = \"../data/interactomes/enhanced_ppi_model_bernett.pt\"\n",
    "    # Configuration: Try to load saved models or create new one\n",
    "    device = torch.device(proteomelm_device)\n",
    "                    \n",
    "    # Create and configure enhanced model for this dataset\n",
    "    logging.info(\"Creating new Enhanced PPI model for supervised prediction...\")\n",
    "\n",
    "    # Determine feature dimensions from extracted data\n",
    "    pair_feature_dim = pairwise_features.shape[1]  # Flattened attention features\n",
    "    protein_embed_dim = representations.shape[1]   # ProteomeLM embeddings\n",
    "\n",
    "    # Create enhanced model with appropriate dimensions\n",
    "    enhanced_model = EnhancedPPIModel(\n",
    "        protein_embed_dim=protein_embed_dim,\n",
    "        pair_feature_dim=pair_feature_dim,\n",
    "    )\n",
    "    enhanced_model.load_state_dict(torch.load(enhanced_model_ppi_checkpoint, map_location=device)[\"state_dict\"])\n",
    "    enhanced_model.to(device)\n",
    "    logging.info(f\"Created Enhanced PPI model with {protein_embed_dim}-dim proteins and {pair_feature_dim}-dim pairs\")\n",
    "\n",
    "    # Prepare data for the enhanced model\n",
    "    logging.info(\"Preparing data for Enhanced PPI model...\")\n",
    "\n",
    "    # Convert to tensors\n",
    "    pairwise_features_tensor = torch.tensor(pairwise_features, dtype=torch.float32).to(device)\n",
    "    protein_embeddings_tensor = torch.tensor(representations, dtype=torch.float32).to(device)\n",
    "\n",
    "    # Get pairwise indices for upper triangular matrix\n",
    "    n_proteins = len(labels)\n",
    "    triu_indices = np.triu_indices(n_proteins, k=1)\n",
    "\n",
    "    # Extract protein pairs for the model\n",
    "    protein1_embeddings = protein_embeddings_tensor[triu_indices[0]]\n",
    "    protein2_embeddings = protein_embeddings_tensor[triu_indices[1]]\n",
    "\n",
    "    logging.info(f\"Prepared {len(protein1_embeddings)} protein pairs for prediction\")\n",
    "\n",
    "    enhanced_model.eval()\n",
    "    with torch.no_grad():\n",
    "        enhanced_logits = enhanced_model(\n",
    "            F=pairwise_features_tensor,\n",
    "            E1=protein1_embeddings,\n",
    "            E2=protein2_embeddings\n",
    "        )\n",
    "        supervised_ppi_scores = torch.sigmoid(enhanced_logits).cpu().numpy().flatten()\n",
    "\n",
    "    prediction_method = \"Pre-trained Enhanced PPI Model\"\n",
    "        \n",
    "    # Display prediction results\n",
    "    print(f\"\\nPrediction method: {prediction_method}\")\n",
    "    print(f\"Total protein pairs analyzed: {len(supervised_ppi_scores):,}\")\n",
    "    print(f\"Prediction score range: {supervised_ppi_scores.min():.4f} - {supervised_ppi_scores.max():.4f}\")\n",
    "    print(f\"Mean prediction score: {supervised_ppi_scores.mean():.4f}\")\n",
    "\n",
    "    # Show top predicted interactions\n",
    "    top_k = min(20, len(supervised_ppi_scores))\n",
    "    top_indices = np.argsort(supervised_ppi_scores)[::-1][:top_k]\n",
    "\n",
    "    print(f\"\\nTop {top_k} predicted protein-protein interactions:\")\n",
    "    print(\"-\" * 80)\n",
    "    if string_scores is not None:\n",
    "        print(f\"{'Rank':<4} {'Protein 1':<20} {'Protein 2':<20} {'Score':<8} {'STRING':<8} {'Match'}\")\n",
    "    else:\n",
    "        print(f\"{'Rank':<4} {'Protein 1':<20} {'Protein 2':<20} {'Score'}\")\n",
    "    print(\"-\" * 80)\n",
    "\n",
    "    for rank, idx in enumerate(top_indices, 1):\n",
    "        i, j = triu_indices[0][idx], triu_indices[1][idx]\n",
    "        protein1 = labels[i][:18] + \"...\" if len(labels[i]) > 18 else labels[i]\n",
    "        protein2 = labels[j][:18] + \"...\" if len(labels[j]) > 18 else labels[j]\n",
    "        score = supervised_ppi_scores[idx]\n",
    "        \n",
    "        if string_scores is not None:\n",
    "            string_score = string_scores[idx]\n",
    "            match = \"✓\" if string_score >= 150 else \"✗\"\n",
    "            print(f\"{rank:<4} {protein1:<20} {protein2:<20} {score:<8.3f} {string_score:<8} {match}\")\n",
    "        else:\n",
    "            print(f\"{rank:<4} {protein1:<20} {protein2:<20} {score:<8.3f}\")\n",
    "\n",
    "    # Enhanced network statistics\n",
    "    print(f\"\\n=== Enhanced Network Analysis ===\")\n",
    "\n",
    "    # Compare with STRING if available\n",
    "    if string_scores is not None:\n",
    "        # Calculate precision at different top-k values\n",
    "        for k in [100, 500, 1000, 5000]:\n",
    "            if k <= len(supervised_ppi_scores):\n",
    "                top_k_indices = np.argsort(supervised_ppi_scores)[::-1][:k]\n",
    "                top_k_string = string_scores[top_k_indices]\n",
    "                precision = np.sum(top_k_string >= 150) / k\n",
    "                print(f\"Precision @ top-{k}: {precision:.3f} ({np.sum(top_k_string >= 150)}/{k} interactions)\")\n",
    "    # Save results\n",
    "    np.save(\"temp_supervised_ppi_scores.npy\", supervised_ppi_scores)\n",
    "    print(f\"\\n✅ Enhanced PPI prediction completed using {prediction_method}\")\n",
    "    print(\"💾 Results saved to temp_supervised_ppi_scores.npy\")"
   ]
  },
  {
   "cell_type": "code",
   "execution_count": null,
   "id": "6dc99187",
   "metadata": {},
   "outputs": [
    {
     "name": "stdout",
     "output_type": "stream",
     "text": [
      "2025-08-15 16:10:20,139 - INFO - root - Saved supervised plot to fraction_above_threshold_supervised_customorganism.svg\n"
     ]
    },
    {
     "data": {
      "image/png": "[encoded data removed]",
      "text/plain": [
       "<Figure size 500x400 with 1 Axes>"
      ]
     },
     "metadata": {},
     "output_type": "display_data"
    },
    {
     "name": "stdout",
     "output_type": "stream",
     "text": [
      "\n",
      "=== Supervised PPI Prediction Summary ===\n",
      "Organism: Custom Organism\n",
      "Total proteins: 4140\n",
      "Total possible pairs: 8,567,730\n",
      "STRING interactions found: 492,380 (5.75%)\n",
      "\n",
      "Top 10000 supervised predictions:\n",
      "  Low (0.15-0.4): 4073 (40.7%)\n",
      "  Medium (0.4-0.7): 2721 (27.2%)\n",
      "  High (0.7-0.9): 1772 (17.7%)\n",
      "  Very high (0.9+): 1377 (13.8%)\n"
     ]
    }
   ],
   "source": [
    "# Supervised prediction quality analysis\n",
    "if (string_scores is not None) and use_supervised_ppi:\n",
    "    # Parameters for analysis (matching previous analysis)\n",
    "    Ns = [1000, 3000, 5000, 10000, 30000, 50000, 70000, 100000, 300000, 500000, 700000, \n",
    "          1000000, 3000000, 5000000, 7000000, 10000000, 30000000, \n",
    "          50000000, 70000000, 100000000]\n",
    "    thrs = [150, 400, 700, 900]\n",
    "    thrs_labels = [\"Low (0.15-0.4)\", \"Medium (0.4-0.7)\", \"High (0.7-0.9)\", \"Very high (0.9+)\"]\n",
    "    \n",
    "    # Filter Ns to valid range\n",
    "    max_predictions = len(supervised_ppi_scores)\n",
    "    Ns = [n for n in Ns if n <= max_predictions]\n",
    "    \n",
    "    if len(Ns) == 0:\n",
    "        logging.warning(f\"Not enough predictions ({max_predictions}) for analysis\")\n",
    "        Ns = [min(1000, max_predictions), max_predictions]\n",
    "    \n",
    "    # Sort by supervised PPI scores\n",
    "    indices = np.argsort(supervised_ppi_scores)[::-1]\n",
    "    y_sorted_by_supervised_score = string_scores[indices]\n",
    "    \n",
    "    # Calculate fraction above thresholds\n",
    "    X_supervised = np.zeros((len(Ns), len(thrs)))\n",
    "    for i, n in enumerate(Ns):\n",
    "        for j, thr in enumerate(thrs):\n",
    "            X_supervised[i, j] = np.sum(y_sorted_by_supervised_score[:n] >= thr) / n\n",
    "    \n",
    "    # Create visualization\n",
    "    cmap = plt.get_cmap('plasma')\n",
    "    colors = [cmap(i) for i in np.linspace(0.3, 0.8, 4)][::-1]\n",
    "    \n",
    "    plt.figure(figsize=(5, 4))\n",
    "    for i, thr in enumerate(thrs):\n",
    "        plt.plot(Ns, X_supervised[:, i], color=\"black\", linestyle=\"-\")\n",
    "        plt.fill_between(Ns, X_supervised[:, i], alpha=1, color=colors[i], label=thrs_labels[i])\n",
    "    \n",
    "    plt.title(f\"$\\\\mathbf{{\\\\it{{{organism_name}}}}}$ - Supervised Model\", fontweight=\"bold\")\n",
    "    plt.xscale(\"log\")\n",
    "    plt.xlim(min(Ns), max(Ns))\n",
    "    plt.xlabel(\"Number of predictions\")\n",
    "    plt.ylim(0, max(0.45, X_supervised.max() * 1.1))\n",
    "    plt.ylabel(\"Fraction of predictions\")\n",
    "    plt.legend(fontsize=12)\n",
    "    \n",
    "    plt.gca().spines['top'].set_visible(False)\n",
    "    plt.gca().spines['right'].set_visible(False)\n",
    "    plt.tight_layout()\n",
    "    \n",
    "    # Save plot\n",
    "    output_file = f\"fraction_above_threshold_supervised_{organism_name.lower().replace(' ', '').replace('.', '_')}.svg\"\n",
    "    plt.savefig(output_file, dpi=300)\n",
    "    logging.info(f\"Saved supervised plot to {output_file}\")\n",
    "    plt.show()\n",
    "    \n",
    "    # Print summary statistics\n",
    "    print(f\"\\n=== Supervised PPI Prediction Summary ===\")\n",
    "    print(f\"Organism: {organism_name}\")\n",
    "    print(f\"Total proteins: {len(labels)}\")\n",
    "    print(f\"Total possible pairs: {len(supervised_ppi_scores):,}\")\n",
    "    print(f\"STRING interactions found: {np.sum(string_labels):,} ({np.sum(string_labels)/len(string_labels):.2%})\")\n",
    "    \n",
    "    # Top predictions analysis\n",
    "    top_10000 = min(10000, len(supervised_ppi_scores))\n",
    "    top_predictions_string_scores = y_sorted_by_supervised_score[:top_10000]\n",
    "\n",
    "    print(f\"\\nTop {top_10000} supervised predictions:\")\n",
    "    for i, (thr, label) in enumerate(zip(thrs, thrs_labels)):\n",
    "        count = np.sum(top_predictions_string_scores >= thr)\n",
    "        fraction = count / top_10000\n",
    "        print(f\"  {label}: {count} ({fraction:.1%})\")"
   ]
  },
  {
   "cell_type": "markdown",
   "id": "42af5ba7",
   "metadata": {},
   "source": [
    "## Results Analysis and Visualization"
   ]
  },
  {
   "cell_type": "code",
   "execution_count": 38,
   "id": "5a9ca8e9",
   "metadata": {},
   "outputs": [
    {
     "name": "stdout",
     "output_type": "stream",
     "text": [
      "=== Protein Partner Discovery ===\n"
     ]
    },
    {
     "data": {
      "application/vnd.jupyter.widget-view+json": {
       "model_id": "ab1ab0574ef445008fee039d1d4849cb",
       "version_major": 2,
       "version_minor": 0
      },
      "text/plain": [
       "Dropdown(description='Selection:', options=(('Select specific protein', 'specific'), ('Random protein', 'rando…"
      ]
     },
     "metadata": {},
     "output_type": "display_data"
    },
    {
     "data": {
      "application/vnd.jupyter.widget-view+json": {
       "model_id": "b9aa1904d685402fbc8027d3b87f51a3",
       "version_major": 2,
       "version_minor": 0
      },
      "text/plain": [
       "Text(value=' ', description='Protein:', layout=Layout(width='300px'), style=TextStyle(description_width='initi…"
      ]
     },
     "metadata": {},
     "output_type": "display_data"
    },
    {
     "data": {
      "application/vnd.jupyter.widget-view+json": {
       "model_id": "f390dae6552e4333956e7dfaf77ac0d5",
       "version_major": 2,
       "version_minor": 0
      },
      "text/plain": [
       "IntSlider(value=10, description='Top partners:', max=50, min=5, step=5, style=SliderStyle(description_width='i…"
      ]
     },
     "metadata": {},
     "output_type": "display_data"
    },
    {
     "data": {
      "application/vnd.jupyter.widget-view+json": {
       "model_id": "9cd6e4a3a1a24a74b0cad0b1279bcb88",
       "version_major": 2,
       "version_minor": 0
      },
      "text/plain": [
       "Button(button_style='info', description='🔍 Find Partners', layout=Layout(margin='10px 0', width='150px'), styl…"
      ]
     },
     "metadata": {},
     "output_type": "display_data"
    },
    {
     "name": "stdout",
     "output_type": "stream",
     "text": [
      "\n",
      "Configure your search parameters above and click 'Find Partners' to discover protein interactions\n"
     ]
    }
   ],
   "source": [
    "# Interactive protein partner discovery\n",
    "print(\"=== Protein Partner Discovery ===\")\n",
    "\n",
    "# Create widgets for protein selection\n",
    "protein_selection_type = widgets.Dropdown(\n",
    "    options=[\n",
    "        ('Select specific protein', 'specific'),\n",
    "        ('Random protein', 'random')\n",
    "    ],\n",
    "    value='specific',\n",
    "    description='Selection:',\n",
    "    style={'description_width': 'initial'}\n",
    ")\n",
    "\n",
    "protein_dropdown = widgets.Text(\n",
    "    value=' ',\n",
    "    description='Protein:',\n",
    "    style={'description_width': 'initial'},\n",
    "    layout=widgets.Layout(width='300px')\n",
    ")\n",
    "\n",
    "num_partners_input = widgets.IntSlider(\n",
    "    value=10,\n",
    "    min=5,\n",
    "    max=50,\n",
    "    step=5,\n",
    "    description='Top partners:',\n",
    "    style={'description_width': 'initial'}\n",
    ")\n",
    "\n",
    "# Function to show/hide protein dropdown based on selection type\n",
    "def update_protein_selection(change):\n",
    "    if change['new'] == 'specific':\n",
    "        protein_dropdown.layout.display = 'block'\n",
    "    else:\n",
    "        protein_dropdown.layout.display = 'none'\n",
    "\n",
    "protein_selection_type.observe(update_protein_selection, names='value')\n",
    "\n",
    "# Display widgets\n",
    "display(protein_selection_type)\n",
    "display(protein_dropdown)\n",
    "display(num_partners_input)\n",
    "\n",
    "# Function to find best partners for a protein\n",
    "def find_best_partners(scores):\n",
    "    # Get selected protein index\n",
    "    if protein_selection_type.value == 'random':\n",
    "        selected_protein_idx = np.random.choice(len(labels))\n",
    "        selected_protein = labels[selected_protein_idx]\n",
    "    else:\n",
    "        selected_protein = protein_dropdown.value\n",
    "        try:\n",
    "            selected_protein_idx = labels.index(selected_protein)\n",
    "        except ValueError:\n",
    "            print(f\"❌ Protein '{selected_protein}' not found in the dataset.\")\n",
    "            print(f\"Available proteins: {', '.join(labels[:10])}...\")\n",
    "            return\n",
    "    \n",
    "    num_partners = num_partners_input.value\n",
    "    \n",
    "    print(f\"\\n🔍 Finding best partners for: {selected_protein}\")\n",
    "    print(\"=\"*60)\n",
    "    \n",
    "    # Get pairwise indices\n",
    "    triu_indices = np.triu_indices(len(labels), k=1)\n",
    "    \n",
    "    # Find all pairs involving the selected protein\n",
    "    partner_scores = []\n",
    "    partner_indices = []\n",
    "    partner_string_scores = []\n",
    "    \n",
    "    for pair_idx, (i, j) in enumerate(zip(triu_indices[0], triu_indices[1])):\n",
    "        if i == selected_protein_idx:\n",
    "            partner_idx = j\n",
    "        elif j == selected_protein_idx:\n",
    "            partner_idx = i\n",
    "        else:\n",
    "            continue\n",
    "            \n",
    "        partner_scores.append(scores[pair_idx])\n",
    "        partner_indices.append(partner_idx)\n",
    "        \n",
    "        if string_scores is not None:\n",
    "            partner_string_scores.append(string_scores[pair_idx])\n",
    "        else:\n",
    "            partner_string_scores.append(None)\n",
    "    \n",
    "    # Sort by ProteomeLM scores\n",
    "    sorted_indices = np.argsort(partner_scores)[::-1]\n",
    "    \n",
    "    # Display results\n",
    "    print(f\"Top {num_partners} predicted interaction partners:\\n\")\n",
    "    \n",
    "    if string_scores is not None:\n",
    "        print(f\"{'Rank':<4} {'Partner Protein':<25} {'ProteomeLM Score':<15} {'STRING Score':<12} {'STRING Level'}\")\n",
    "        print(\"-\" * 80)\n",
    "    else:\n",
    "        print(f\"{'Rank':<4} {'Partner Protein':<25} {'ProteomeLM Score':<15}\")\n",
    "        print(\"-\" * 50)\n",
    "    \n",
    "    for rank, idx in enumerate(sorted_indices[:num_partners], 1):\n",
    "        partner_idx = partner_indices[idx]\n",
    "        partner_name = labels[partner_idx]\n",
    "        proteomelm_score = partner_scores[idx]\n",
    "        \n",
    "        if string_scores is not None:\n",
    "            string_score = partner_string_scores[idx]\n",
    "            \n",
    "            # Determine STRING confidence level\n",
    "            if string_score >= 990:\n",
    "                string_level = \"Verified\"\n",
    "            elif string_score >= 900:\n",
    "                string_level = \"Very high\"\n",
    "            elif string_score >= 700:\n",
    "                string_level = \"High\"\n",
    "            elif string_score >= 400:\n",
    "                string_level = \"Medium\"\n",
    "            elif string_score >= 150:\n",
    "                string_level = \"Low\"\n",
    "            else:\n",
    "                string_level = \"Unknown\"\n",
    "\n",
    "            print(f\"{rank:<4} {partner_name:<25} {proteomelm_score:<15.3f} {string_score:<12} {string_level}\")\n",
    "        else:\n",
    "            print(f\"{rank:<4} {partner_name:<25} {proteomelm_score:<15.3f}\")\n",
    "    \n",
    "    # Summary statistics\n",
    "    print(f\"\\n📊 Summary for {selected_protein}:\")\n",
    "    print(f\"   • Total possible partners: {len(partner_scores)}\")\n",
    "    print(f\"   • Average ProteomeLM score: {np.mean(partner_scores):.3f}\")\n",
    "    print(f\"   • Highest ProteomeLM score: {np.max(partner_scores):.3f}\")\n",
    "    \n",
    "    if string_scores is not None:\n",
    "        valid_string_scores = [s for s in partner_string_scores if s is not None]\n",
    "        verified_confidence = sum(1 for s in valid_string_scores if s >= 990)\n",
    "        very_high_confidence = sum(1 for s in valid_string_scores if s >= 900)\n",
    "        high_confidence = sum(1 for s in valid_string_scores if s >= 700)\n",
    "        medium_confidence = sum(1 for s in valid_string_scores if 400 <= s < 700)\n",
    "        low_confidence = sum(1 for s in valid_string_scores if 150 <= s < 400)\n",
    "        \n",
    "        print(f\"   • STRING verified partners (≥990): {verified_confidence}\")\n",
    "        print(f\"   • STRING very high confidence partners (900-989): {very_high_confidence}\")\n",
    "        print(f\"   • STRING high confidence partners (700-899): {high_confidence}\")\n",
    "        print(f\"   • STRING medium confidence partners (400-699): {medium_confidence}\")\n",
    "        print(f\"   • STRING low confidence partners (150-399): {low_confidence}\")\n",
    "\n",
    "# Button to trigger analysis\n",
    "search_button = widgets.Button(\n",
    "    description=\"🔍 Find Partners\",\n",
    "    button_style='info',\n",
    "    layout=widgets.Layout(width='150px', margin='10px 0')\n",
    ")\n",
    "\n",
    "def on_search_click(b):\n",
    "    # Unsupervised PPI prediction\n",
    "    print(\"\\n🔍 Finding best partners using unsupervised PPI prediction...\")\n",
    "    find_best_partners(proteomelm_scores)\n",
    "    # Supervised PPI prediction\n",
    "    if use_supervised_ppi and supervised_ppi_checkpoint:\n",
    "        print(\"\\n🔍 Finding best partners using supervised PPI prediction...\")\n",
    "        find_best_partners(supervised_ppi_scores)\n",
    "\n",
    "search_button.on_click(on_search_click)\n",
    "display(search_button)\n",
    "\n",
    "print(\"\\nConfigure your search parameters above and click 'Find Partners' to discover protein interactions\")"
   ]
  },
  {
   "cell_type": "code",
   "execution_count": 39,
   "id": "19510cd3",
   "metadata": {},
   "outputs": [
    {
     "name": "stdout",
     "output_type": "stream",
     "text": [
      "\n",
      "🔍 Finding best partners for: 511145.b4155\n",
      "============================================================\n",
      "Top 10 predicted interaction partners:\n",
      "\n",
      "Rank Partner Protein           ProteomeLM Score STRING Score STRING Level\n",
      "--------------------------------------------------------------------------------\n",
      "1    511145.b2593              0.911           0            Unknown\n",
      "2    511145.b2700              0.882           0            Unknown\n",
      "3    511145.b4168              0.865           0            Unknown\n",
      "4    511145.b3857              0.853           0            Unknown\n",
      "5    511145.b3282              0.852           0            Unknown\n",
      "6    511145.b1212              0.850           373          Low\n",
      "7    511145.b1233              0.847           0            Unknown\n",
      "8    511145.b3412              0.845           0            Unknown\n",
      "9    511145.b0147              0.838           0            Unknown\n",
      "10   511145.b1707              0.835           0            Unknown\n",
      "\n",
      "📊 Summary for 511145.b4155:\n",
      "   • Total possible partners: 4139\n",
      "   • Average ProteomeLM score: 0.581\n",
      "   • Highest ProteomeLM score: 0.911\n",
      "   • STRING verified partners (≥990): 1\n",
      "   • STRING very high confidence partners (900-989): 5\n",
      "   • STRING high confidence partners (700-899): 7\n",
      "   • STRING medium confidence partners (400-699): 13\n",
      "   • STRING low confidence partners (150-399): 194\n"
     ]
    }
   ],
   "source": [
    "find_best_partners(supervised_ppi_scores)"
   ]
  },
  {
   "cell_type": "markdown",
   "id": "d6556f91",
   "metadata": {},
   "source": [
    "## Save Results"
   ]
  },
  {
   "cell_type": "code",
   "execution_count": null,
   "id": "7f6883ec",
   "metadata": {},
   "outputs": [
    {
     "name": "stdout",
     "output_type": "stream",
     "text": [
      "2025-08-15 16:15:10,883 - INFO - root - Results saved to ppi_results_customorganism.pkl\n",
      "2025-08-15 16:15:10,885 - INFO - root - Cleaned up temp_string.fa\n",
      "2025-08-15 16:15:10,886 - INFO - root - Cleaned up temp_uniprot.fa\n",
      "2025-08-15 16:15:10,894 - INFO - root - Cleaned up temp_string_annotations.txt\n",
      "2025-08-15 16:15:10,904 - INFO - root - Cleaned up temp_proteome_encoded.pt\n",
      "2025-08-15 16:15:10,916 - INFO - root - Cleaned up temp_string_labels.npy\n",
      "2025-08-15 16:15:10,922 - INFO - root - Cleaned up temp_supervised_ppi_scores.npy\n",
      "\n",
      "=== Analysis Complete ===\n",
      "Results saved to: ppi_results_customorganism.pkl\n",
      "Visualization saved to: fraction_above_threshold_customorganism.svg\n",
      "Supervised visualization saved to: fraction_above_threshold_supervised_customorganism.svg\n"
     ]
    }
   ],
   "source": [
    "# Save results\n",
    "results = {\n",
    "    \"organism_name\": organism_name,\n",
    "    \"protein_labels\": labels,\n",
    "    \"proteomelm_scores\": proteomelm_scores,\n",
    "    \"supervised_ppi_scores\": supervised_ppi_scores,\n",
    "    \"pairwise_features\": pairwise_features,\n",
    "}\n",
    "\n",
    "if string_scores is not None:\n",
    "    results[\"string_scores\"] = string_scores\n",
    "    results[\"string_labels\"] = string_labels\n",
    "\n",
    "# Save to pickle file\n",
    "output_file = f\"ppi_results_{organism_name.lower().replace(' ', '').replace('.', '_')}.pkl\"\n",
    "with open(output_file, \"wb\") as f:\n",
    "    pickle.dump(results, f)\n",
    "\n",
    "logging.info(f\"Results saved to {output_file}\")\n",
    "\n",
    "# Clean up temporary files\n",
    "temp_files = [\"temp_string.fa\", \"temp_uniprot.fa\", \"temp_string_annotations.txt\", \n",
    "              \"temp_proteome_encoded.pt\", \"temp_string_labels.npy\"]\n",
    "for temp_file in temp_files:\n",
    "    if os.path.exists(temp_file):\n",
    "        os.remove(temp_file)\n",
    "        logging.info(f\"Cleaned up {temp_file}\")\n",
    "\n",
    "print(\"\\n=== Analysis Complete ===\")\n",
    "print(f\"Results saved to: {output_file}\")\n",
    "if string_scores is not None:\n",
    "    print(f\"Visualization saved to: fraction_above_threshold_{organism_name.lower().replace(' ', '').replace('.', '_')}.svg\")"
   ]
  }
 ],
 "metadata": {
  "kernelspec": {
   "display_name": ".venv",
   "language": "python",
   "name": "python3"
  },
  "language_info": {
   "codemirror_mode": {
    "name": "ipython",
    "version": 3
   },
   "file_extension": ".py",
   "mimetype": "text/x-python",
   "name": "python",
   "nbconvert_exporter": "python",
   "pygments_lexer": "ipython3",
   "version": "3.10.12"
  }
 },
 "nbformat": 4,
 "nbformat_minor": 5
}
